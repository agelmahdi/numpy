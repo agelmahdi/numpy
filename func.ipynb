{
 "cells": [
  {
   "cell_type": "markdown",
   "id": "c857c001-70e2-4122-aee4-c6a6831c172a",
   "metadata": {
    "panel-layout": {
     "height": 126.859375,
     "visible": true,
     "width": 100
    }
   },
   "source": [
    "## Ufuncs\n",
    "- <b>numpy</b> provides an easy and flexible interface to optimized computation with arrays of data\n",
    "- <b>Vectorization</b>  is the key for NumPy arrays to be fast\n",
    "- <b>Vectorization</b> is implemented through a universal function (ufunc)\n",
    "## Slowness of loops in Python\n",
    "- Python is dynamic and interpreted\n",
    "- Various attempts to address this weakness like\n",
    "  - Pypy project\n",
    "  - Cython project\n",
    "  - Numba project\n",
    "- The main problem with Python is that many small operations are repeated like the following code for computing reciprocals:"
   ]
  },
  {
   "cell_type": "code",
   "execution_count": null,
   "id": "2eccab62-24ec-45ae-89bb-a45f6179f39d",
   "metadata": {},
   "outputs": [],
   "source": [
    "import numpy as np \n",
    "np.random.seed(0)\n",
    "\n",
    "def compute_reciprocals(values):\n",
    "    lens = len(values)\n",
    "    output = np.empty(lens)\n",
    "    for i in range(lens):\n",
    "        output[i] = 1.0 / values[i]\n",
    "    return output\n",
    "\n",
    "values = np.random.randint(1,10,size = 5)\n",
    "compute_reciprocals(values)\n"
   ]
  },
  {
   "cell_type": "code",
   "execution_count": 6,
   "id": "c61c01e9-6608-449b-b977-3d9bbc302b2e",
   "metadata": {},
   "outputs": [
    {
     "data": {
      "text/plain": [
       "array([6, 1, 4, 4, 8])"
      ]
     },
     "execution_count": 6,
     "metadata": {},
     "output_type": "execute_result"
    }
   ],
   "source": [
    "values"
   ]
  },
  {
   "cell_type": "code",
   "execution_count": 8,
   "id": "d945fcf8-eafd-4b4e-b411-5722d5760c83",
   "metadata": {},
   "outputs": [
    {
     "name": "stdout",
     "output_type": "stream",
     "text": [
      "1.55 s ± 47.1 ms per loop (mean ± std. dev. of 7 runs, 1 loop each)\n"
     ]
    }
   ],
   "source": [
    "values = np.random.randint(1,10,size = 1000000)\n",
    "%timeit compute_reciprocals(values)\n"
   ]
  },
  {
   "cell_type": "markdown",
   "id": "2ee9ce56-32d5-4363-944f-c87e6f30b1f4",
   "metadata": {},
   "source": [
    "#### NumPy provides a convenient interface for performing similar operations : <b>Vectorization</b>"
   ]
  },
  {
   "cell_type": "code",
   "execution_count": 12,
   "id": "2f5c72a9-b9b7-46f0-9370-b6e8534ada5d",
   "metadata": {},
   "outputs": [
    {
     "data": {
      "text/plain": [
       "array([8, 5, 8, 4, 7])"
      ]
     },
     "execution_count": 12,
     "metadata": {},
     "output_type": "execute_result"
    }
   ],
   "source": [
    "values = np.random.randint(1,10,size = 5)\n",
    "values"
   ]
  },
  {
   "cell_type": "code",
   "execution_count": 13,
   "id": "e019f530-8196-42cd-9f79-e62549f9c6e8",
   "metadata": {},
   "outputs": [
    {
     "data": {
      "text/plain": [
       "array([0.125     , 0.2       , 0.125     , 0.25      , 0.14285714])"
      ]
     },
     "execution_count": 13,
     "metadata": {},
     "output_type": "execute_result"
    }
   ],
   "source": [
    "1/values"
   ]
  },
  {
   "cell_type": "code",
   "execution_count": 16,
   "id": "20b0a6e1-dea1-417f-8c00-a7e9e638d815",
   "metadata": {},
   "outputs": [
    {
     "name": "stdout",
     "output_type": "stream",
     "text": [
      "2.25 ms ± 42.2 μs per loop (mean ± std. dev. of 7 runs, 100 loops each)\n"
     ]
    }
   ],
   "source": [
    "values = np.random.randint(1,10,size = 1000000)\n",
    "%timeit 1/values"
   ]
  },
  {
   "cell_type": "markdown",
   "id": "2451760e-8402-43c0-a8b2-bf0961df116d",
   "metadata": {},
   "source": [
    "## Exploring NumPy's UFuncs\n",
    "\n",
    "_unary unfuncs vs binary ufuncs_\n",
    "\n",
    "#### Array arithmetic"
   ]
  },
  {
   "cell_type": "code",
   "execution_count": 17,
   "id": "e3d9f1c2-ecf4-425d-822a-843a6d28b10e",
   "metadata": {},
   "outputs": [],
   "source": [
    "import numpy as np "
   ]
  },
  {
   "cell_type": "code",
   "execution_count": 33,
   "id": "fa9d9a2d-e970-493f-9a96-1fb9e5e152df",
   "metadata": {},
   "outputs": [
    {
     "name": "stdout",
     "output_type": "stream",
     "text": [
      "[0 1 2 3]\n",
      "[5 6 7 8]\n",
      "[-5 -4 -3 -2]\n",
      "[0 2 4 6]\n"
     ]
    }
   ],
   "source": [
    "x = np.arange(4)\n",
    "print(x)\n",
    "print(x+5) # np.add(x,5)\n",
    "print(x-5) \n",
    "print(x*2) # np.multiply(x,2)"
   ]
  },
  {
   "cell_type": "code",
   "execution_count": 35,
   "id": "395923e9-4ab2-4c31-8ee3-e3fa7114148e",
   "metadata": {},
   "outputs": [
    {
     "name": "stdout",
     "output_type": "stream",
     "text": [
      "[0.  0.5 1.  1.5]\n",
      "[0 0 1 1]\n",
      "[ 0 -1 -2 -3]\n",
      "[0 1 4 9]\n",
      "[0 1 0 1]\n"
     ]
    }
   ],
   "source": [
    "print(x/2)\n",
    "print(x//2) # floor division تاخد العدد الصحيح وتترك ما بعد الفاصله\n",
    "print(-x)\n",
    "print(x**2) \n",
    "print(x%2) # باقي القسمه \n"
   ]
  },
  {
   "cell_type": "code",
   "execution_count": 42,
   "id": "9de1c768-fc3b-491e-936c-00734b93360a",
   "metadata": {},
   "outputs": [
    {
     "data": {
      "text/plain": [
       "array([-2. , -2.5, -3. , -3.5])"
      ]
     },
     "execution_count": 42,
     "metadata": {},
     "output_type": "execute_result"
    }
   ],
   "source": [
    "-(x/2 + 2) "
   ]
  },
  {
   "cell_type": "code",
   "execution_count": 44,
   "id": "3457a780-8e69-4358-ae3f-93f5e4e7d5bf",
   "metadata": {},
   "outputs": [
    {
     "data": {
      "text/plain": [
       "array([ -4.  ,  -6.25,  -9.  , -12.25])"
      ]
     },
     "execution_count": 44,
     "metadata": {},
     "output_type": "execute_result"
    }
   ],
   "source": [
    "-(x/2 + 2) **2"
   ]
  },
  {
   "cell_type": "code",
   "execution_count": 46,
   "id": "acfcbb47-f839-43fe-8a94-b8a9ac9dc341",
   "metadata": {},
   "outputs": [
    {
     "data": {
      "text/plain": [
       "array([0, 1, 2, 3])"
      ]
     },
     "execution_count": 46,
     "metadata": {},
     "output_type": "execute_result"
    }
   ],
   "source": [
    "x"
   ]
  },
  {
   "cell_type": "code",
   "execution_count": 48,
   "id": "5de28c2a-5c49-4ea3-a8cc-13b70135d137",
   "metadata": {},
   "outputs": [
    {
     "data": {
      "text/plain": [
       "array([4. , 3.5, 3. , 2.5])"
      ]
     },
     "execution_count": 48,
     "metadata": {},
     "output_type": "execute_result"
    }
   ],
   "source": [
    "- x/2 + 2 ** 2 ==  - x/2 + (2 ** 2)"
   ]
  },
  {
   "cell_type": "markdown",
   "id": "dcb31639-86ee-49b0-a296-8c3cdc651f6e",
   "metadata": {},
   "source": [
    "### Absolute value"
   ]
  },
  {
   "cell_type": "code",
   "execution_count": 49,
   "id": "c4447fa0-ca7b-4865-aacb-79349501f390",
   "metadata": {},
   "outputs": [
    {
     "data": {
      "text/plain": [
       "array([1, 2, 2, 8, 3, 3])"
      ]
     },
     "execution_count": 49,
     "metadata": {},
     "output_type": "execute_result"
    }
   ],
   "source": [
    "x = np.array([-1,2,-2,-8,-3,3])\n",
    "abs(x)"
   ]
  },
  {
   "cell_type": "code",
   "execution_count": 52,
   "id": "9ba67f39-bcc6-411b-862e-183c8b0ea272",
   "metadata": {},
   "outputs": [
    {
     "name": "stdout",
     "output_type": "stream",
     "text": [
      "1.36 ms ± 61.8 μs per loop (mean ± std. dev. of 7 runs, 1,000 loops each)\n",
      "1.35 ms ± 42.5 μs per loop (mean ± std. dev. of 7 runs, 1,000 loops each)\n"
     ]
    }
   ],
   "source": [
    "big_array = np.random.randint(-10,10,size = 1000000)\n",
    "%timeit np.abs(big_array)\n",
    "%timeit abs(big_array)\n"
   ]
  },
  {
   "cell_type": "markdown",
   "id": "8edef8c6-d467-497c-9267-3ce551bcdea4",
   "metadata": {},
   "source": [
    "### Trigonometric functions الدوال المثلثيه"
   ]
  },
  {
   "cell_type": "code",
   "execution_count": 84,
   "id": "198ada6d-61d6-41f1-91dc-5510f26e8e97",
   "metadata": {},
   "outputs": [
    {
     "data": {
      "text/plain": [
       "array([0.        , 1.57079633, 3.14159265])"
      ]
     },
     "execution_count": 84,
     "metadata": {},
     "output_type": "execute_result"
    }
   ],
   "source": [
    "theta = np.linspace(0,np.pi,3) #Return evenly spaced numbers over a specified interval\n",
    "np.degrees(theta)\n",
    "theta"
   ]
  },
  {
   "cell_type": "code",
   "execution_count": 83,
   "id": "05e3217e-6581-4924-b040-69cbb7e93679",
   "metadata": {},
   "outputs": [
    {
     "name": "stdout",
     "output_type": "stream",
     "text": [
      "[0.         1.57079633 3.14159265]\n",
      "[0.0000000e+00 1.0000000e+00 1.2246468e-16]\n",
      "[ 1.000000e+00  6.123234e-17 -1.000000e+00]\n",
      "[ 0.00000000e+00  1.63312394e+16 -1.22464680e-16]\n"
     ]
    }
   ],
   "source": [
    "print(theta) # القياس الدائريه\n",
    "print(np.sin(theta)) #مقابل / الوتر\n",
    "print(np.cos(theta)) # مجاور / الوتر\n",
    "print(np.tan(theta)) # المقابل / المجاور"
   ]
  },
  {
   "cell_type": "code",
   "execution_count": 70,
   "id": "a971febd-4466-4989-8e73-fe9b805b1674",
   "metadata": {},
   "outputs": [
    {
     "name": "stdout",
     "output_type": "stream",
     "text": [
      "[0.5, 0.5, 1]\n",
      "[0.52359878 0.52359878 1.57079633]\n",
      "[1.04719755 1.04719755 0.        ]\n",
      "[0.46364761 0.46364761 0.78539816]\n"
     ]
    }
   ],
   "source": [
    "x = [.5,.5,1] # القياس الدائريه\n",
    "print(x) # قيم الزوايا\n",
    "print(np.arcsin(x)) # عكس ال  sin \n",
    "print(np.arccos(x)) # الجيب التمام\n",
    "print(np.arctan(x)) # الظل"
   ]
  },
  {
   "cell_type": "code",
   "execution_count": 85,
   "id": "5be6e717-da60-4860-bf6f-a334e627ae0d",
   "metadata": {},
   "outputs": [
    {
     "name": "stdout",
     "output_type": "stream",
     "text": [
      "[1, 2, 3]\n",
      "[ 2.71828183  7.3890561  20.08553692]\n",
      "[2. 4. 8.]\n",
      "[ 3  9 27]\n"
     ]
    }
   ],
   "source": [
    "x = [1,2,3]\n",
    "print(x)\n",
    "print(np.exp(x))\n",
    "print(np.exp2(x)) # 2 ** x\n",
    "print(np.power(3,x))# 3 ** x"
   ]
  },
  {
   "cell_type": "code",
   "execution_count": 86,
   "id": "f62fc7ab-8269-4c74-b66d-d5a37dce5a3c",
   "metadata": {},
   "outputs": [
    {
     "name": "stdout",
     "output_type": "stream",
     "text": [
      "[1, 2, 4, 10]\n",
      "[0.         0.69314718 1.38629436 2.30258509]\n",
      "[0.         1.         2.         3.32192809]\n",
      "[0.         0.30103    0.60205999 1.        ]\n"
     ]
    }
   ],
   "source": [
    "x = [1,2,4,10]\n",
    "print(x)\n",
    "print(np.log(x))\n",
    "print(np.log2(x))\n",
    "print(np.log10(x))"
   ]
  },
  {
   "cell_type": "markdown",
   "id": "aeff4b63-8be8-45dd-87ec-bf736e511ccd",
   "metadata": {},
   "source": [
    "## Specialized unfuncs"
   ]
  },
  {
   "cell_type": "code",
   "execution_count": 97,
   "id": "266a7fea-4084-4241-aa2c-d6064e6242a3",
   "metadata": {},
   "outputs": [
    {
     "name": "stdout",
     "output_type": "stream",
     "text": [
      "gamma (x) = [3.6288e+06 2.4000e+01 3.6288e+05]\n",
      "In|gamma(x) | = [15.10441257  3.17805383 12.80182748]\n",
      "beta(x, 2)= [0.00757576 0.03333333 0.00909091]\n"
     ]
    }
   ],
   "source": [
    "from scipy import special\n",
    "#Gamma functions (generalized factorials) and related functions\n",
    "x = [11, 5, 10]\n",
    "print(\"gamma (x) =\", special.gamma(x))\n",
    "print (\"In|gamma(x) | =\", special.gammaln(x))\n",
    "print (\"beta(x, 2)=\", special.beta(x, 2))"
   ]
  },
  {
   "cell_type": "code",
   "execution_count": 99,
   "id": "6ece304a-dd7f-4658-a37d-1b8969d4f14c",
   "metadata": {},
   "outputs": [
    {
     "name": "stdout",
     "output_type": "stream",
     "text": [
      "erf(x) = [0.         0.32862676 0.67780119 0.84270079]\n",
      "erfc(x) = [1.         0.67137324 0.32219881 0.15729921]\n",
      "erfinv(x)= [0.         0.27246271 0.73286908        inf]\n"
     ]
    }
   ],
   "source": [
    "# Error funition (integral of Gaussian)\n",
    "# its complement, and its inverse\n",
    "x = np. array([0, 0.3, 0.7, 1.0])\n",
    "print(\"erf(x) =\", special.erf(x))\n",
    "print(\"erfc(x) =\", special. erfc (x))\n",
    "print (\"erfinv(x)=\", special.erfinv(x))"
   ]
  },
  {
   "cell_type": "markdown",
   "id": "75166e98-3674-4164-8afb-42248c909e74",
   "metadata": {},
   "source": [
    "## Advanced Ufunc Features\n",
    "\n",
    "#### Specifying the output for better memory performance\n"
   ]
  },
  {
   "cell_type": "code",
   "execution_count": 108,
   "id": "db50bb79-53fc-42ef-97a0-bb04dd7a42fd",
   "metadata": {},
   "outputs": [
    {
     "name": "stdout",
     "output_type": "stream",
     "text": [
      "[0 1 2 3 4]\n",
      "[ 0 10 20 30 40]\n",
      "[10 20 30 40 50]\n"
     ]
    }
   ],
   "source": [
    "x = np.arange(5)\n",
    "y = np.empty(5,dtype = 'int')\n",
    "print(y)\n",
    "np.multiply(x, 10, out=y)\n",
    "print(y)\n",
    "np.add (y, 10, out=y)\n",
    "print(y)"
   ]
  },
  {
   "cell_type": "code",
   "execution_count": 106,
   "id": "11c1e609-fef3-4972-b2ab-e997c8198328",
   "metadata": {},
   "outputs": [
    {
     "name": "stdout",
     "output_type": "stream",
     "text": [
      "[ 1.  0.  2.  0.  4.  0.  8.  0. 16.  0.]\n"
     ]
    }
   ],
   "source": [
    "y = np. zeros (10)\n",
    "np. power (2, x, out=y[::2])# 2***\n",
    "print(y)"
   ]
  },
  {
   "cell_type": "code",
   "execution_count": null,
   "id": "93331101-3d8e-48d7-a209-28df463ce6cf",
   "metadata": {},
   "outputs": [],
   "source": []
  }
 ],
 "metadata": {
  "kernelspec": {
   "display_name": "Python 3 (ipykernel)",
   "language": "python",
   "name": "python3"
  },
  "language_info": {
   "codemirror_mode": {
    "name": "ipython",
    "version": 3
   },
   "file_extension": ".py",
   "mimetype": "text/x-python",
   "name": "python",
   "nbconvert_exporter": "python",
   "pygments_lexer": "ipython3",
   "version": "3.12.4"
  },
  "panel-cell-order": [
   "c857c001-70e2-4122-aee4-c6a6831c172a"
  ]
 },
 "nbformat": 4,
 "nbformat_minor": 5
}
