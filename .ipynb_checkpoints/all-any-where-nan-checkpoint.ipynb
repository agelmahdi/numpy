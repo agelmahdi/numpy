{
 "cells": [
  {
   "cell_type": "code",
   "execution_count": 7,
   "id": "8b7834ee-27d5-4940-8ff8-624d0ce69ede",
   "metadata": {},
   "outputs": [
    {
     "data": {
      "text/plain": [
       "array([ True, False,  True,  True,  True, False])"
      ]
     },
     "execution_count": 7,
     "metadata": {},
     "output_type": "execute_result"
    }
   ],
   "source": [
    "import numpy as np\n",
    "\n",
    "x = np.array([True, False, True, True, True, False])\n",
    "x"
   ]
  },
  {
   "cell_type": "code",
   "execution_count": 9,
   "id": "ed8638a9-403d-45a4-86dc-ed57c73e9674",
   "metadata": {},
   "outputs": [
    {
     "data": {
      "text/plain": [
       "True"
      ]
     },
     "execution_count": 9,
     "metadata": {},
     "output_type": "execute_result"
    }
   ],
   "source": [
    "x.any() # any element is true"
   ]
  },
  {
   "cell_type": "code",
   "execution_count": 10,
   "id": "55671d69-9822-4276-b2e4-d8292f205e16",
   "metadata": {},
   "outputs": [
    {
     "data": {
      "text/plain": [
       "False"
      ]
     },
     "execution_count": 10,
     "metadata": {},
     "output_type": "execute_result"
    }
   ],
   "source": [
    "x.all() # all elements are true"
   ]
  },
  {
   "cell_type": "code",
   "execution_count": 13,
   "id": "cef89f7b-e444-4d16-bcb6-4a686f11ed24",
   "metadata": {},
   "outputs": [
    {
     "data": {
      "text/plain": [
       "array([[ True, False, False],\n",
       "       [ True,  True, False]])"
      ]
     },
     "execution_count": 13,
     "metadata": {},
     "output_type": "execute_result"
    }
   ],
   "source": [
    "M = np.array([[True, False, False],\n",
    "[True, True, False]])\n",
    "\n",
    "M"
   ]
  },
  {
   "cell_type": "code",
   "execution_count": 14,
   "id": "f51e6629-9d38-423f-ba7c-1fa8a247a3af",
   "metadata": {},
   "outputs": [
    {
     "data": {
      "text/plain": [
       "array([[ True,  True, False]])"
      ]
     },
     "execution_count": 14,
     "metadata": {},
     "output_type": "execute_result"
    }
   ],
   "source": [
    "np.any(M,axis = 0,keepdims=True) # any in every column is true"
   ]
  },
  {
   "cell_type": "code",
   "execution_count": 16,
   "id": "8116fd65-753c-4da0-b290-010eedba81d7",
   "metadata": {},
   "outputs": [
    {
     "data": {
      "text/plain": [
       "array([[False],\n",
       "       [False]])"
      ]
     },
     "execution_count": 16,
     "metadata": {},
     "output_type": "execute_result"
    }
   ],
   "source": [
    "np.all(M,axis = 1,keepdims=True) # all in row is true"
   ]
  },
  {
   "cell_type": "code",
   "execution_count": 17,
   "id": "cea61b2b-58a4-4d04-ad3b-f7d20337ff59",
   "metadata": {},
   "outputs": [
    {
     "data": {
      "text/plain": [
       "array([[ 1,  2,  3],\n",
       "       [ 3,  2, -4],\n",
       "       [ 5,  3, -1]])"
      ]
     },
     "execution_count": 17,
     "metadata": {},
     "output_type": "execute_result"
    }
   ],
   "source": [
    "A = np.array ([[1,2,3], [3,2, -4],[5,3,-1]])\n",
    "A"
   ]
  },
  {
   "cell_type": "code",
   "execution_count": 18,
   "id": "c2b463ee-020e-4c95-8c2b-3e0ec3b3f26d",
   "metadata": {},
   "outputs": [
    {
     "data": {
      "text/plain": [
       "array([[ True,  True,  True],\n",
       "       [ True,  True, False],\n",
       "       [ True,  True, False]])"
      ]
     },
     "execution_count": 18,
     "metadata": {},
     "output_type": "execute_result"
    }
   ],
   "source": [
    "A > 0"
   ]
  },
  {
   "cell_type": "code",
   "execution_count": 20,
   "id": "a13518c7-fa09-4137-9c28-ded53e71b810",
   "metadata": {},
   "outputs": [
    {
     "data": {
      "text/plain": [
       "array([[ True],\n",
       "       [ True],\n",
       "       [ True]])"
      ]
     },
     "execution_count": 20,
     "metadata": {},
     "output_type": "execute_result"
    }
   ],
   "source": [
    "np.any(A > 0,axis = 1,keepdims=True)"
   ]
  },
  {
   "cell_type": "code",
   "execution_count": 21,
   "id": "42700d9d-5782-4915-a9b7-a45258560318",
   "metadata": {},
   "outputs": [
    {
     "data": {
      "text/plain": [
       "array([[ True,  True,  True]])"
      ]
     },
     "execution_count": 21,
     "metadata": {},
     "output_type": "execute_result"
    }
   ],
   "source": [
    "np.any(A > 0,axis = 0,keepdims=True)"
   ]
  },
  {
   "cell_type": "code",
   "execution_count": 38,
   "id": "2cdf9396-8ec5-4c8c-b43f-d590ebd33521",
   "metadata": {},
   "outputs": [
    {
     "data": {
      "text/plain": [
       "array([ 5,  6, -1, -6,  8, 10, 20])"
      ]
     },
     "execution_count": 38,
     "metadata": {},
     "output_type": "execute_result"
    }
   ],
   "source": [
    "x = np.array ([5,6, -1, -6,8, 10,20])\n",
    "x"
   ]
  },
  {
   "cell_type": "code",
   "execution_count": 25,
   "id": "04c57467-2ebe-4805-8e28-fe07cd4c1e73",
   "metadata": {},
   "outputs": [
    {
     "data": {
      "text/plain": [
       "(array([2, 3]),)"
      ]
     },
     "execution_count": 25,
     "metadata": {},
     "output_type": "execute_result"
    }
   ],
   "source": [
    "np.where(x < 0) #indices"
   ]
  },
  {
   "cell_type": "code",
   "execution_count": 26,
   "id": "769f7e98-069b-42fe-81d8-34342510a12d",
   "metadata": {},
   "outputs": [
    {
     "data": {
      "text/plain": [
       "array([ 5,  6, -1, -1,  8, 10, 20])"
      ]
     },
     "execution_count": 26,
     "metadata": {},
     "output_type": "execute_result"
    }
   ],
   "source": [
    "np.where(x < 0 , -1 , x) # replace any number lower than 0 with -1 "
   ]
  },
  {
   "cell_type": "code",
   "execution_count": 27,
   "id": "5d3ba9aa-1747-4fc0-8d86-92ce2959d9da",
   "metadata": {},
   "outputs": [
    {
     "data": {
      "text/plain": [
       "6.0"
      ]
     },
     "execution_count": 27,
     "metadata": {},
     "output_type": "execute_result"
    }
   ],
   "source": [
    "mean = x.mean ()\n",
    "mean"
   ]
  },
  {
   "cell_type": "code",
   "execution_count": 28,
   "id": "55b99a4e-627c-45ec-b9fa-2020838b908e",
   "metadata": {},
   "outputs": [
    {
     "data": {
      "text/plain": [
       "array([ 5.,  6.,  6.,  6.,  8., 10., 20.])"
      ]
     },
     "execution_count": 28,
     "metadata": {},
     "output_type": "execute_result"
    }
   ],
   "source": [
    "np.where(x < 0 , x.mean() , x) # replace any number lower than 0 with mean"
   ]
  },
  {
   "cell_type": "code",
   "execution_count": 39,
   "id": "0bb68c69-d317-4596-9784-8fbc488f0919",
   "metadata": {},
   "outputs": [
    {
     "data": {
      "text/plain": [
       "array([ 5,  0, -1, -6,  0,  0,  0])"
      ]
     },
     "execution_count": 39,
     "metadata": {},
     "output_type": "execute_result"
    }
   ],
   "source": [
    "np.where((x > 0) & (x % 2 == 0) , 0 , x)"
   ]
  },
  {
   "cell_type": "code",
   "execution_count": 42,
   "id": "7e2af810-bbcc-427c-8d3d-a7e046a3a0ad",
   "metadata": {},
   "outputs": [
    {
     "data": {
      "text/plain": [
       "array([ 5,  6,  0,  0,  8, 10, 20])"
      ]
     },
     "execution_count": 42,
     "metadata": {},
     "output_type": "execute_result"
    }
   ],
   "source": [
    "np.where(~(x > 0), 0 , x)"
   ]
  },
  {
   "cell_type": "code",
   "execution_count": 45,
   "id": "53ab4fcf-bb15-4880-976f-b29aca786d43",
   "metadata": {},
   "outputs": [
    {
     "data": {
      "text/plain": [
       "array([ 1.,  2.,  3., nan,  4.])"
      ]
     },
     "execution_count": 45,
     "metadata": {},
     "output_type": "execute_result"
    }
   ],
   "source": [
    "x = np.array ([1,2,3,np.nan,4])\n",
    "x"
   ]
  },
  {
   "cell_type": "code",
   "execution_count": 46,
   "id": "f23c3436-83b7-46e6-8389-5c8d63e7dc34",
   "metadata": {},
   "outputs": [
    {
     "data": {
      "text/plain": [
       "nan"
      ]
     },
     "execution_count": 46,
     "metadata": {},
     "output_type": "execute_result"
    }
   ],
   "source": [
    "np.mean(x)"
   ]
  },
  {
   "cell_type": "code",
   "execution_count": 47,
   "id": "031bffa9-bf7a-4eed-a9f7-4733589663a2",
   "metadata": {},
   "outputs": [
    {
     "data": {
      "text/plain": [
       "array([False, False, False,  True, False])"
      ]
     },
     "execution_count": 47,
     "metadata": {},
     "output_type": "execute_result"
    }
   ],
   "source": [
    "np.isnan(x)"
   ]
  },
  {
   "cell_type": "code",
   "execution_count": 51,
   "id": "c1d54604-650a-46b9-81f3-e14ee854b284",
   "metadata": {},
   "outputs": [
    {
     "data": {
      "text/plain": [
       "array([[ 1.,  2.,  3.,  4.],\n",
       "       [nan,  5.,  6.,  7.],\n",
       "       [ 2.,  3.,  4.,  5.],\n",
       "       [ 1.,  2.,  3., nan]])"
      ]
     },
     "execution_count": 51,
     "metadata": {},
     "output_type": "execute_result"
    }
   ],
   "source": [
    "M = np.array([[1,2,3,4],[np.nan, 5,6,7],[2,3,4,5],[1,2,3,np.nan]])\n",
    "M"
   ]
  },
  {
   "cell_type": "code",
   "execution_count": 52,
   "id": "2ae6d3b3-0dd0-4eb4-a6f5-cb8bb958ae4b",
   "metadata": {},
   "outputs": [
    {
     "data": {
      "text/plain": [
       "array([[ True, False, False,  True]])"
      ]
     },
     "execution_count": 52,
     "metadata": {},
     "output_type": "execute_result"
    }
   ],
   "source": [
    "np.any(np.isnan(M), axis = 0, keepdims = True)"
   ]
  },
  {
   "cell_type": "code",
   "execution_count": 53,
   "id": "c70b9597-b493-4f63-b6d3-07f62c424a16",
   "metadata": {},
   "outputs": [],
   "source": [
    "np.savetxt('saved_array.csv', M, delimiter = ',')"
   ]
  },
  {
   "cell_type": "code",
   "execution_count": 54,
   "id": "ba380f8f-f3c4-4cb2-bf1d-ed7df1ce04cb",
   "metadata": {},
   "outputs": [],
   "source": [
    "np. savetxt( 'saved_array.txt', M, delimiter = '\\t')"
   ]
  },
  {
   "cell_type": "code",
   "execution_count": null,
   "id": "4418439d-fef6-4799-874b-29f2bcc4e3b4",
   "metadata": {},
   "outputs": [],
   "source": []
  }
 ],
 "metadata": {
  "kernelspec": {
   "display_name": "Python 3 (ipykernel)",
   "language": "python",
   "name": "python3"
  },
  "language_info": {
   "codemirror_mode": {
    "name": "ipython",
    "version": 3
   },
   "file_extension": ".py",
   "mimetype": "text/x-python",
   "name": "python",
   "nbconvert_exporter": "python",
   "pygments_lexer": "ipython3",
   "version": "3.12.4"
  }
 },
 "nbformat": 4,
 "nbformat_minor": 5
}
