{
 "cells": [
  {
   "cell_type": "markdown",
   "id": "3230ae85-7a18-417b-ac03-15d22b8d1b4f",
   "metadata": {},
   "source": [
    "## Aggregations\n",
    "#### Summing the values in an array"
   ]
  },
  {
   "cell_type": "code",
   "execution_count": 1,
   "id": "9f577d71-1c2e-4a38-a555-96fb11740fd5",
   "metadata": {},
   "outputs": [],
   "source": [
    "import numpy as np"
   ]
  },
  {
   "cell_type": "code",
   "execution_count": 3,
   "id": "36edfe72-a902-4780-ba21-799116b7d604",
   "metadata": {},
   "outputs": [
    {
     "name": "stdout",
     "output_type": "stream",
     "text": [
      "[0.20457814 0.2409316  0.32777339 0.80502488 0.43899637 0.77074885\n",
      " 0.17817542 0.60982867 0.13756508 0.36398757 0.88152516 0.03462748\n",
      " 0.81882877 0.21736601 0.62076396 0.21851575 0.76192654 0.7269296\n",
      " 0.28847769 0.97496449 0.76869668 0.45600995 0.75195778 0.53789664\n",
      " 0.55869957 0.82916641 0.49369973 0.07546963 0.26407162 0.39192055\n",
      " 0.76177718 0.4677922  0.2813042  0.7009959  0.98307227 0.79320161\n",
      " 0.69238148 0.21260103 0.46302605 0.10811922 0.51373288 0.64557009\n",
      " 0.12432628 0.15687667 0.71466067 0.99883259 0.51052906 0.21491699\n",
      " 0.94371333 0.83611315 0.2009508  0.46514727 0.03199699 0.32793039\n",
      " 0.24973855 0.43284066 0.60588569 0.6434285  0.93231712 0.02956054\n",
      " 0.09986746 0.32752783 0.9642708  0.00626964 0.84469355 0.95156935\n",
      " 0.67671921 0.64027986 0.74650691 0.13430528 0.81802718 0.07840156\n",
      " 0.04478519 0.26795112 0.57443605 0.57023547 0.85723281 0.16055292\n",
      " 0.43013514 0.59575474 0.10038744 0.62100302 0.33851943 0.47713852\n",
      " 0.77010438 0.45106193 0.98987031 0.90699062 0.14397326 0.6865183\n",
      " 0.9608712  0.65767744 0.20796695 0.9827396  0.63167793 0.29196896\n",
      " 0.69148178 0.53606798 0.30061034 0.12610542]\n"
     ]
    },
    {
     "data": {
      "text/plain": [
       "50.45472023539774"
      ]
     },
     "execution_count": 3,
     "metadata": {},
     "output_type": "execute_result"
    }
   ],
   "source": [
    "x = np.random.random(100)\n",
    "print(x)\n",
    "sum(x)"
   ]
  },
  {
   "cell_type": "code",
   "execution_count": 4,
   "id": "c4648c3b-b6e1-4a61-af7e-73e32f1e086e",
   "metadata": {},
   "outputs": [
    {
     "data": {
      "text/plain": [
       "array([4.91146611e-04, 2.18186823e-01, 1.11331764e-01, ...,\n",
       "       5.05800271e-01, 5.72385515e-01, 9.27003565e-01])"
      ]
     },
     "execution_count": 4,
     "metadata": {},
     "output_type": "execute_result"
    }
   ],
   "source": [
    "big_array = np.random.rand(1000000)\n",
    "big_array"
   ]
  },
  {
   "cell_type": "code",
   "execution_count": 8,
   "id": "52f29521-1a36-431b-ba81-a9c1ce98ea60",
   "metadata": {},
   "outputs": [
    {
     "name": "stdout",
     "output_type": "stream",
     "text": [
      "89.9 ms ± 3.26 ms per loop (mean ± std. dev. of 7 runs, 10 loops each)\n",
      "411 μs ± 5.53 μs per loop (mean ± std. dev. of 7 runs, 1,000 loops each)\n"
     ]
    }
   ],
   "source": [
    "%timeit  sum(big_array)\n",
    "%timeit np.sum(big_array)"
   ]
  },
  {
   "cell_type": "code",
   "execution_count": 9,
   "id": "0134b22f-8347-47d0-97f1-88a6c09aa98a",
   "metadata": {},
   "outputs": [
    {
     "data": {
      "text/plain": [
       "(3.192187899903054e-06, 0.9999982595400169)"
      ]
     },
     "execution_count": 9,
     "metadata": {},
     "output_type": "execute_result"
    }
   ],
   "source": [
    "min(big_array),max(big_array)"
   ]
  },
  {
   "cell_type": "code",
   "execution_count": 15,
   "id": "686941d2-35d0-436f-b763-d44c7ebc176e",
   "metadata": {},
   "outputs": [
    {
     "data": {
      "text/plain": [
       "(3.192187899903054e-06, 0.9999982595400169, 499574.64773806685)"
      ]
     },
     "execution_count": 15,
     "metadata": {},
     "output_type": "execute_result"
    }
   ],
   "source": [
    "np.min(big_array),np.max(big_array),np.sum(big_array)\n",
    "# ==\n",
    "big_array.min(),big_array.max(),big_array.sum()"
   ]
  },
  {
   "cell_type": "code",
   "execution_count": 11,
   "id": "f9003a8a-d44a-43ab-be3d-7a0aa1fc3373",
   "metadata": {},
   "outputs": [
    {
     "name": "stdout",
     "output_type": "stream",
     "text": [
      "59.1 ms ± 2.53 ms per loop (mean ± std. dev. of 7 runs, 10 loops each)\n",
      "331 μs ± 18.6 μs per loop (mean ± std. dev. of 7 runs, 1,000 loops each)\n"
     ]
    }
   ],
   "source": [
    "%timeit  min(big_array)\n",
    "%timeit np.min(big_array)"
   ]
  },
  {
   "cell_type": "markdown",
   "id": "c521add5-20c3-4e27-b356-e188e7f63fba",
   "metadata": {},
   "source": [
    "## Multi dimensional aggregates"
   ]
  },
  {
   "cell_type": "code",
   "execution_count": 17,
   "id": "5ebd5d26-f366-4bd7-ac35-2a3fb84e534a",
   "metadata": {},
   "outputs": [
    {
     "data": {
      "text/plain": [
       "array([[0, 1, 2],\n",
       "       [3, 4, 5]])"
      ]
     },
     "execution_count": 17,
     "metadata": {},
     "output_type": "execute_result"
    }
   ],
   "source": [
    "x = np.arange(0,6).reshape((2,3)) \n",
    "x"
   ]
  },
  {
   "cell_type": "code",
   "execution_count": 24,
   "id": "7684b27b-2e52-4cba-8946-54b7bf681507",
   "metadata": {},
   "outputs": [
    {
     "data": {
      "text/plain": [
       "15"
      ]
     },
     "execution_count": 24,
     "metadata": {},
     "output_type": "execute_result"
    }
   ],
   "source": [
    "x.sum() # == \n",
    "np.sum(x) #!= sum(x)"
   ]
  },
  {
   "cell_type": "code",
   "execution_count": 35,
   "id": "7226727c-3af8-4ca4-8cf9-40f1efe5612e",
   "metadata": {},
   "outputs": [
    {
     "data": {
      "text/plain": [
       "array([[3, 5, 7]])"
      ]
     },
     "execution_count": 35,
     "metadata": {},
     "output_type": "execute_result"
    }
   ],
   "source": [
    "x.sum(axis=0,keepdims=True)"
   ]
  },
  {
   "cell_type": "code",
   "execution_count": 36,
   "id": "97a267c6-8033-4f06-b8f6-568b9c5235a2",
   "metadata": {},
   "outputs": [
    {
     "data": {
      "text/plain": [
       "array([[ 3],\n",
       "       [12]])"
      ]
     },
     "execution_count": 36,
     "metadata": {},
     "output_type": "execute_result"
    }
   ],
   "source": [
    "x.sum(axis=1,keepdims=True)"
   ]
  },
  {
   "cell_type": "markdown",
   "id": "3186b7c3-9637-46c8-9fd2-2b179808e931",
   "metadata": {},
   "source": [
    "|Function Name| NaN-safe Version| Description|\n",
    "| :- | -: | :-: |\n",
    "|np.sum |np.nansum|Compute sum of elements|\n",
    "|p.prod\t|np.nanprod|Compute product of elements|\n",
    "|np.mean|np.nanmean|Compute median of elements|\n",
    "|np.std\t|np.nanstd|\tCompute standard deviation|\n",
    "|np.var\t|np.nanvar|Compute variance|\n",
    "|np.min\t|np.nanmin|Find minimum value|\n",
    "|np.max\t|np.nanmax|Find maximum value|\n",
    "|np.argmin|\tпр.nanargmin|Find index of minimum value|\n",
    "|np.argmax\t|np.nanargmax|Find index of maximum value|\n",
    "|np.median|\tnp.nanmedian|Compute median of elements|\n",
    "|np.percentile |p.nanpercentile|Compute rank-based statistics of elements|\n",
    "|np.any\t|N/A|Evaluate whether any elements are true|\n",
    "|np.all|N/A\t|Evaluate whether all elements are true|\n"
   ]
  },
  {
   "cell_type": "code",
   "execution_count": null,
   "id": "5d20d999-9c26-4d87-b238-e048c7aa8679",
   "metadata": {},
   "outputs": [],
   "source": []
  }
 ],
 "metadata": {
  "kernelspec": {
   "display_name": "Python 3 (ipykernel)",
   "language": "python",
   "name": "python3"
  },
  "language_info": {
   "codemirror_mode": {
    "name": "ipython",
    "version": 3
   },
   "file_extension": ".py",
   "mimetype": "text/x-python",
   "name": "python",
   "nbconvert_exporter": "python",
   "pygments_lexer": "ipython3",
   "version": "3.12.4"
  }
 },
 "nbformat": 4,
 "nbformat_minor": 5
}
