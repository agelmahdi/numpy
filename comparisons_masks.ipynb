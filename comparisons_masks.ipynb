{
 "cells": [
  {
   "cell_type": "code",
   "execution_count": 68,
   "id": "9bb8a38f-78af-4312-b5d3-f1f46530cea1",
   "metadata": {},
   "outputs": [],
   "source": [
    "import numpy as np\n",
    "import pandas as pd \n",
    "import matplotlib.pyplot as plt\n",
    "import seaborn; seaborn.set()"
   ]
  },
  {
   "cell_type": "code",
   "execution_count": 13,
   "id": "e3520bb5-1e73-434a-a987-89d923088e34",
   "metadata": {},
   "outputs": [],
   "source": [
    "df = pd.read_csv('seattleWeather_1948-2017.csv',parse_dates=[0])[['DATE','PRCP']]\n",
    "rainfall = df[df['DATE'].dt.year == 2016]['PRCP'].values"
   ]
  },
  {
   "cell_type": "code",
   "execution_count": 14,
   "id": "8ef11c8b-8fc9-4ed0-b100-89aeeadad5ec",
   "metadata": {},
   "outputs": [
    {
     "data": {
      "image/png": "[encoded data removed]",
      "text/plain": [
       "<Figure size 640x480 with 1 Axes>"
      ]
     },
     "metadata": {},
     "output_type": "display_data"
    }
   ],
   "source": [
    "plt.hist(rainfall, bins=30)\n",
    "plt.title('Rainfall') \n",
    "plt.xlabel ('PRCP')\n",
    "plt.ylabel('Frequency');"
   ]
  },
  {
   "cell_type": "code",
   "execution_count": 18,
   "id": "1790926c-2366-4639-ba03-a902dd194991",
   "metadata": {},
   "outputs": [
    {
     "data": {
      "text/plain": [
       "array([False, False, False, False, False, False, False, False, False,\n",
       "       False, False, False, False, False, False, False, False, False,\n",
       "       False, False, False, False, False, False, False, False, False,\n",
       "       False, False, False, False, False, False, False, False, False,\n",
       "       False, False, False, False, False, False, False, False, False,\n",
       "       False, False, False, False, False, False, False, False, False,\n",
       "       False, False, False, False, False, False, False, False, False,\n",
       "       False, False, False, False, False, False, False, False, False,\n",
       "       False, False, False, False, False, False, False, False, False,\n",
       "       False, False, False, False, False, False, False, False, False,\n",
       "       False, False, False, False, False, False, False, False, False,\n",
       "       False, False, False, False, False, False, False, False, False,\n",
       "       False, False, False, False, False, False, False, False, False,\n",
       "       False, False, False, False, False, False, False, False, False,\n",
       "       False, False, False, False, False, False, False, False, False,\n",
       "       False, False, False, False, False, False, False, False, False,\n",
       "       False, False, False, False, False, False, False, False, False,\n",
       "       False, False, False, False, False, False, False, False, False,\n",
       "       False, False, False, False, False, False, False, False, False,\n",
       "       False, False,  True,  True,  True,  True,  True,  True,  True,\n",
       "        True,  True,  True,  True,  True,  True,  True,  True,  True,\n",
       "        True,  True,  True,  True,  True,  True,  True,  True,  True,\n",
       "        True,  True,  True,  True,  True,  True,  True,  True,  True,\n",
       "        True,  True,  True,  True,  True,  True,  True,  True,  True,\n",
       "        True,  True,  True,  True,  True,  True,  True,  True,  True,\n",
       "        True,  True,  True,  True,  True,  True,  True,  True,  True,\n",
       "        True,  True,  True,  True,  True,  True,  True,  True,  True,\n",
       "        True,  True,  True,  True,  True,  True,  True,  True,  True,\n",
       "        True,  True,  True,  True,  True,  True,  True,  True,  True,\n",
       "        True, False, False, False, False, False, False, False, False,\n",
       "       False, False, False, False, False, False, False, False, False,\n",
       "       False, False, False, False, False, False, False, False, False,\n",
       "       False, False, False, False, False, False, False, False, False,\n",
       "       False, False, False, False, False, False, False, False, False,\n",
       "       False, False, False, False, False, False, False, False, False,\n",
       "       False, False, False, False, False, False, False, False, False,\n",
       "       False, False, False, False, False, False, False, False, False,\n",
       "       False, False, False, False, False, False, False, False, False,\n",
       "       False, False, False, False, False, False, False, False, False,\n",
       "       False, False, False, False, False, False, False, False, False,\n",
       "       False, False, False, False, False, False])"
      ]
     },
     "execution_count": 18,
     "metadata": {},
     "output_type": "execute_result"
    }
   ],
   "source": [
    "days = np.arange(366)\n",
    "days\n",
    "summer = (days> 172) & (days < 172+90)\n",
    "summer"
   ]
  },
  {
   "cell_type": "markdown",
   "id": "f370912c-d89c-4f88-b4b7-41564b8f3237",
   "metadata": {},
   "source": [
    "### Find the mean of precipitation of rainy days."
   ]
  },
  {
   "cell_type": "code",
   "execution_count": 57,
   "id": "acec6c53-3641-4c72-b25f-be70652e65fe",
   "metadata": {},
   "outputs": [
    {
     "data": {
      "text/plain": [
       "0.2626744186046512"
      ]
     },
     "execution_count": 57,
     "metadata": {},
     "output_type": "execute_result"
    }
   ],
   "source": [
    "\n",
    "rainfall[rainfall>0].mean()\n"
   ]
  },
  {
   "cell_type": "markdown",
   "id": "34287477-d9c1-4e5f-96f2-bbe06e8556b1",
   "metadata": {},
   "source": [
    "### Find the maximimum precipitation on summer days."
   ]
  },
  {
   "cell_type": "code",
   "execution_count": 72,
   "id": "abcef68a-dee2-4ea0-a86a-d945b890e468",
   "metadata": {},
   "outputs": [
    {
     "data": {
      "text/plain": [
       "0.42"
      ]
     },
     "execution_count": 72,
     "metadata": {},
     "output_type": "execute_result"
    }
   ],
   "source": [
    "rainfall[summer].max()"
   ]
  },
  {
   "cell_type": "code",
   "execution_count": null,
   "id": "5d32c9a6-42e5-400b-9af3-faf89aaeb99b",
   "metadata": {},
   "outputs": [],
   "source": []
  },
  {
   "cell_type": "markdown",
   "id": "9ffd14f0-46f1-428e-b8e1-b6964d579235",
   "metadata": {},
   "source": [
    "### Find the median precipitation on rainy and non-summer days."
   ]
  },
  {
   "cell_type": "code",
   "execution_count": 71,
   "id": "b0fc4fd0-0a05-48f7-8c5c-abdda3731bb4",
   "metadata": {},
   "outputs": [
    {
     "data": {
      "text/plain": [
       "0.17"
      ]
     },
     "execution_count": 71,
     "metadata": {},
     "output_type": "execute_result"
    }
   ],
   "source": [
    "np.median(rainfall[(~summer) & (rainfall > 0)])"
   ]
  },
  {
   "cell_type": "markdown",
   "id": "0c53cca4-918b-42cd-a863-299e114047ac",
   "metadata": {},
   "source": [
    "### Find the mean precipitation on fall rainy days."
   ]
  },
  {
   "cell_type": "code",
   "execution_count": 80,
   "id": "7f6cba57-cfad-4d57-bf10-07d0754d66f5",
   "metadata": {},
   "outputs": [
    {
     "data": {
      "text/plain": [
       "array([0.01, 0.02, 0.05, 0.13, 0.04, 0.31, 0.11, 0.61, 0.06, 0.01, 1.75,\n",
       "       1.36, 0.73, 0.56, 0.17, 0.08, 0.22, 1.19, 0.02, 0.05, 0.12, 0.1 ,\n",
       "       1.23, 0.04, 0.19, 0.26, 0.66, 0.22, 0.46, 1.31, 0.12, 0.04, 0.24,\n",
       "       0.1 , 0.24, 0.31, 1.08, 0.2 , 0.04, 0.01, 0.02, 0.45, 0.13, 0.66,\n",
       "       0.01, 0.38, 0.32, 0.04, 0.1 , 0.01, 0.27, 0.18, 0.17, 0.24, 0.06,\n",
       "       0.34, 0.18, 0.09, 0.09])"
      ]
     },
     "execution_count": 80,
     "metadata": {},
     "output_type": "execute_result"
    }
   ],
   "source": [
    "fall = (days > 262) & (days < 262 + 90)\n",
    "fall \n",
    "\n",
    "rainfall[fall & (rainfall > 0)]"
   ]
  },
  {
   "cell_type": "code",
   "execution_count": null,
   "id": "7498ab9b-e671-45b4-b9b5-6b9de036e116",
   "metadata": {},
   "outputs": [],
   "source": []
  }
 ],
 "metadata": {
  "kernelspec": {
   "display_name": "Python 3 (ipykernel)",
   "language": "python",
   "name": "python3"
  },
  "language_info": {
   "codemirror_mode": {
    "name": "ipython",
    "version": 3
   },
   "file_extension": ".py",
   "mimetype": "text/x-python",
   "name": "python",
   "nbconvert_exporter": "python",
   "pygments_lexer": "ipython3",
   "version": "3.12.4"
  }
 },
 "nbformat": 4,
 "nbformat_minor": 5
}
